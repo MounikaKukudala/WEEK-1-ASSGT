{
 "cells": [
  {
   "cell_type": "code",
   "execution_count": 14,
   "metadata": {},
   "outputs": [],
   "source": [
    "import numpy as np\n",
    "import math\n",
    "from sklearn import datasets, linear_model, metrics"
   ]
  },
  {
   "cell_type": "code",
   "execution_count": 15,
   "metadata": {},
   "outputs": [],
   "source": [
    "diabetes = datasets.load_diabetes()\n",
    "diabetes_X = diabetes.data # matrix of dimensions 442x10\n",
    " \n",
    "# Split the data into training/testing sets\n",
    "diabetes_X_train = diabetes_X[:-20]\n",
    "diabetes_X_test = diabetes_X[-20:]\n",
    " \n",
    "# Split the targets into training/testing sets\n",
    "diabetes_y_train = diabetes.target[:-20]\n",
    "diabetes_y_test = diabetes.target[-20:]\n"
   ]
  },
  {
   "cell_type": "code",
   "execution_count": 16,
   "metadata": {},
   "outputs": [],
   "source": [
    "def error(y,ydash):\n",
    "    error=np.absolute(y-ydash)\n",
    "    ms_error=(np.multiply(error,error).sum()/m)\n",
    "    return ms_error"
   ]
  },
  {
   "cell_type": "code",
   "execution_count": 17,
   "metadata": {},
   "outputs": [],
   "source": [
    "def predict_value(x,theta):\n",
    "    return x.dot(theta)"
   ]
  },
  {
   "cell_type": "code",
   "execution_count": 18,
   "metadata": {},
   "outputs": [],
   "source": [
    "def cost_function(x,ydash):\n",
    "    m,n=x.shape\n",
    "    return (((ydash-y).T).dot(ydash-y).sum())/(2*m)"
   ]
  },
  {
   "cell_type": "code",
   "execution_count": 19,
   "metadata": {},
   "outputs": [],
   "source": [
    "def gradient_descent(x,ydash,theta):\n",
    "    Jdash=(x.transpose().dot(ydash-y))/m\n",
    "    return Jdash"
   ]
  },
  {
   "cell_type": "code",
   "execution_count": 20,
   "metadata": {},
   "outputs": [
    {
     "name": "stdout",
     "output_type": "stream",
     "text": [
      "Epoch 0: 0.217637\n",
      "Epoch 5000: 0.044658\n"
     ]
    }
   ],
   "source": [
    "# train\n",
    "X = diabetes_X_train\n",
    "y = diabetes_y_train\n",
    "\n",
    "m,n=X.shape\n",
    "\n",
    "# train: init\n",
    "W = np.zeros((n+1,1))\n",
    "#n+1 because we are considering b as theta0\n",
    "\n",
    "#b not fixed \n",
    "#concatenating row of ones to X so that it'll produce b when multiplied by theta\n",
    "X=np.concatenate((np.ones((m,1),dtype='float'), X),axis=1)\n",
    "y=np.reshape(y,(m,1))\n",
    "mx=np.max(y)\n",
    "mn=np.min(y)\n",
    "y=(y-mn)/(mx-mn)\n",
    "#normalizing y for accuarte model\n",
    "learning_rate = 0.01\n",
    "epochs = 10000\n",
    " \n",
    "# train: gradient descent\n",
    "for i in range(epochs):\n",
    "    \n",
    "    # calculate predictions\n",
    "    ydash=predict_value(X,W)\n",
    " \n",
    "    # calculate error and cost (mean squared error)\n",
    "    mean_squared_error=error(y,ydash)\n",
    "    cost=cost_function(X,ydash)\n",
    " \n",
    "    # calculate gradients\n",
    "    gradient=gradient_descent(X,ydash,W)\n",
    " \n",
    "    # update parameters\n",
    "    W=W-(learning_rate*gradient)\n",
    "    # diagnostic output\n",
    "    if i % 5000 == 0: print(\"Epoch %d: %f\" % (i, mean_squared_error))"
   ]
  },
  {
   "cell_type": "code",
   "execution_count": 21,
   "metadata": {},
   "outputs": [
    {
     "name": "stdout",
     "output_type": "stream",
     "text": [
      "Coefficients: \n",
      " [[ 0.39946348]\n",
      " [ 0.12904626]\n",
      " [-0.02182121]\n",
      " [ 0.49975959]\n",
      " [ 0.36451404]\n",
      " [ 0.12223713]\n",
      " [ 0.08012921]\n",
      " [-0.30877753]\n",
      " [ 0.31447953]\n",
      " [ 0.46303595]\n",
      " [ 0.29197656]]\n",
      "Mean squared error: 0.05\n",
      "========================================================================================================================\n"
     ]
    }
   ],
   "source": [
    "# test\n",
    "X = diabetes_X_test\n",
    "y = diabetes_y_test\n",
    "m,n=X.shape\n",
    "\n",
    "# calculate predictions + calculate error and cost (same code as above)\n",
    "X=np.concatenate((np.ones((m,1),dtype='float'), X),axis=1)\n",
    "y=np.reshape(y,(m,1))\n",
    "mx=np.max(y)\n",
    "mn=np.min(y)\n",
    "y=(y-mn)/(mx-mn)\n",
    "# normalizing y for accurate prediction\n",
    "\n",
    "\n",
    "ydash=predict_value(X,W)\n",
    "mean_squared_error=error(y,ydash)\n",
    "cost=cost_function(X,ydash)\n",
    "print('Coefficients: \\n', W)\n",
    "print(\"Mean squared error: %.2f\" % mean_squared_error)\n",
    "print(\"=\"*120)"
   ]
  },
  {
   "cell_type": "code",
   "execution_count": null,
   "metadata": {},
   "outputs": [],
   "source": []
  }
 ],
 "metadata": {
  "kernelspec": {
   "display_name": "Python 3",
   "language": "python",
   "name": "python3"
  },
  "language_info": {
   "codemirror_mode": {
    "name": "ipython",
    "version": 3
   },
   "file_extension": ".py",
   "mimetype": "text/x-python",
   "name": "python",
   "nbconvert_exporter": "python",
   "pygments_lexer": "ipython3",
   "version": "3.7.4"
  }
 },
 "nbformat": 4,
 "nbformat_minor": 2
}
